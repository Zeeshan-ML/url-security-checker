{
 "cells": [
  {
   "cell_type": "code",
   "execution_count": 2,
   "metadata": {},
   "outputs": [],
   "source": [
    "import pandas as pd\n",
    "from sklearn.model_selection import train_test_split\n",
    "from sklearn.feature_selection import SelectKBest, chi2\n",
    "from sklearn.ensemble import RandomForestClassifier\n",
    "from sklearn.metrics import accuracy_score, classification_report, confusion_matrix\n",
    "import matplotlib.pyplot as plt # type: ignore\n",
    "import seaborn as sns # type: ignore\n"
   ]
  },
  {
   "cell_type": "code",
   "execution_count": 3,
   "metadata": {},
   "outputs": [],
   "source": [
    "df = pd.read_csv(\"dataset_phishing.csv\")"
   ]
  },
  {
   "cell_type": "code",
   "execution_count": 4,
   "metadata": {},
   "outputs": [],
   "source": [
    "X = df.drop(columns=['domain_registration_length','domain_age','url','status'])\n",
    "y = df['status'].map({'legitimate':0,'phishing':1})"
   ]
  },
  {
   "cell_type": "code",
   "execution_count": 5,
   "metadata": {},
   "outputs": [],
   "source": [
    "k_best = SelectKBest(score_func=chi2, k=20)  # Change 'k' based on the number of features you want\n",
    "X_new = k_best.fit_transform(X, y)\n"
   ]
  },
  {
   "cell_type": "code",
   "execution_count": 6,
   "metadata": {},
   "outputs": [
    {
     "name": "stdout",
     "output_type": "stream",
     "text": [
      "Selected Features: Index(['length_url', 'length_hostname', 'ip', 'nb_and', 'nb_eq', 'nb_www',\n",
      "       'length_words_raw', 'shortest_word_host', 'longest_words_raw',\n",
      "       'longest_word_path', 'avg_word_path', 'phish_hints', 'nb_hyperlinks',\n",
      "       'links_in_tags', 'ratio_intMedia', 'ratio_extMedia', 'safe_anchor',\n",
      "       'web_traffic', 'google_index', 'page_rank'],\n",
      "      dtype='object')\n"
     ]
    }
   ],
   "source": [
    "# Get selected feature names\n",
    "selected_featuress = X.columns[k_best.get_support()]\n",
    "print(\"Selected Features:\", selected_featuress)"
   ]
  },
  {
   "cell_type": "code",
   "execution_count": 7,
   "metadata": {},
   "outputs": [],
   "source": [
    "X = df[\n",
    "    [\n",
    "        'length_url', 'length_hostname', 'ip', 'nb_and', 'nb_eq', 'nb_www',\n",
    "        'length_words_raw', 'shortest_word_host', 'longest_words_raw',\n",
    "        'longest_word_path', 'avg_word_path', 'phish_hints', 'nb_hyperlinks',\n",
    "        'links_in_tags', 'safe_anchor',\n",
    "        'nb_redirection','onmouseover','right_clic','iframe','popup_window'\n",
    "    ]\n",
    "]\n"
   ]
  },
  {
   "cell_type": "code",
   "execution_count": 8,
   "metadata": {},
   "outputs": [],
   "source": [
    "# Split the data into 70% training and 30% testing sets.\n",
    "X_train, X_test, y_train, y_test = train_test_split(\n",
    "    X, y, test_size=0.3, random_state=42, stratify=y\n",
    ")"
   ]
  },
  {
   "cell_type": "code",
   "execution_count": 9,
   "metadata": {},
   "outputs": [
    {
     "name": "stdout",
     "output_type": "stream",
     "text": [
      "\n",
      "Random Forest Classifier Evaluation:\n",
      "Accuracy: 0.9140\n",
      "\n",
      "Confusion Matrix:\n",
      "[[1567  148]\n",
      " [ 147 1567]]\n",
      "\n",
      "Classification Report:\n",
      "              precision    recall  f1-score   support\n",
      "\n",
      "           0       0.91      0.91      0.91      1715\n",
      "           1       0.91      0.91      0.91      1714\n",
      "\n",
      "    accuracy                           0.91      3429\n",
      "   macro avg       0.91      0.91      0.91      3429\n",
      "weighted avg       0.91      0.91      0.91      3429\n",
      "\n"
     ]
    }
   ],
   "source": [
    "# -------------------------\n",
    "# 5. Train the Random Forest Classifier\n",
    "# -------------------------\n",
    "rf_classifier = RandomForestClassifier(n_estimators=1000, random_state=42)\n",
    "rf_classifier.fit(X_train, y_train)\n",
    "\n",
    "# -------------------------\n",
    "# 6. Evaluate the Model\n",
    "# -------------------------\n",
    "y_pred = rf_classifier.predict(X_test)\n",
    "\n",
    "accuracy = accuracy_score(y_test, y_pred)\n",
    "conf_matrix = confusion_matrix(y_test, y_pred)\n",
    "class_report = classification_report(y_test, y_pred)\n",
    "\n",
    "print(\"\\nRandom Forest Classifier Evaluation:\")\n",
    "print(f\"Accuracy: {accuracy:.4f}\")\n",
    "print(\"\\nConfusion Matrix:\")\n",
    "print(conf_matrix)\n",
    "print(\"\\nClassification Report:\")\n",
    "print(class_report)"
   ]
  },
  {
   "cell_type": "code",
   "execution_count": 10,
   "metadata": {},
   "outputs": [
    {
     "data": {
      "image/png": "[encoded data removed]",
      "text/plain": [
       "<Figure size 800x600 with 2 Axes>"
      ]
     },
     "metadata": {},
     "output_type": "display_data"
    }
   ],
   "source": [
    "# Define the class labels in the order used during mapping: 0 -> 'legitimate', 1 -> 'phishing'\n",
    "class_labels = ['legitimate', 'phishing']\n",
    "\n",
    "# Create a figure for the heatmap\n",
    "plt.figure(figsize=(8, 6))\n",
    "\n",
    "# Plot the confusion matrix as a heatmap\n",
    "sns.heatmap(conf_matrix, annot=True, fmt='d', cmap='Blues',\n",
    "            xticklabels=class_labels, yticklabels=class_labels)\n",
    "\n",
    "# Set labels and title\n",
    "plt.xlabel('Predicted Label')\n",
    "plt.ylabel('True Label')\n",
    "plt.title('Confusion Matrix')\n",
    "\n",
    "# Display the plot\n",
    "plt.show()\n"
   ]
  },
  {
   "cell_type": "code",
   "execution_count": 13,
   "metadata": {},
   "outputs": [],
   "source": [
    "import pickle\n",
    "with open(\"model.pkl\", \"wb\") as f:\n",
    "    pickle.dump(rf_classifier, f)"
   ]
  }
 ],
 "metadata": {
  "kernelspec": {
   "display_name": "scenv",
   "language": "python",
   "name": "python3"
  },
  "language_info": {
   "codemirror_mode": {
    "name": "ipython",
    "version": 3
   },
   "file_extension": ".py",
   "mimetype": "text/x-python",
   "name": "python",
   "nbconvert_exporter": "python",
   "pygments_lexer": "ipython3",
   "version": "3.12.6"
  }
 },
 "nbformat": 4,
 "nbformat_minor": 2
}
